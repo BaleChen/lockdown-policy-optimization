{
 "cells": [
  {
   "cell_type": "code",
   "execution_count": 18,
   "id": "beb533d9",
   "metadata": {},
   "outputs": [],
   "source": [
    "import pygad\n",
    "import numpy as np"
   ]
  },
  {
   "cell_type": "code",
   "execution_count": 19,
   "id": "c8a717a6",
   "metadata": {},
   "outputs": [],
   "source": [
    "def SEIR(r1, t, S0, E0, I_R0, I_H0, H_H0, R0):\n",
    "    S = []\n",
    "    E = []\n",
    "    I_R = []\n",
    "    I_H = []\n",
    "    H_H = []\n",
    "    R = []\n",
    "\n",
    "    N = 24.89432*10**6\n",
    "    r1 = r1/N\n",
    "    beta1 = 0.251\n",
    "    v = 1/3\n",
    "    p_R = 0.998 \n",
    "    p_H = 0.002 ##p_R+p_H=1\n",
    "    gamma = 1/5\n",
    "    sigma_H = 1/8\n",
    "\n",
    "    T = t\n",
    "\n",
    "    S_old = S0\n",
    "    E_old = E0\n",
    "    I_R_old = I_R0\n",
    "    I_H_old = I_H0\n",
    "    H_H_old = H_H0\n",
    "    R_old = R0\n",
    "\n",
    "    S = [S0]\n",
    "    E = [E0]\n",
    "    I_R = [I_R0]\n",
    "    I_H = [I_H0]\n",
    "    H_H = [H_H0]\n",
    "    R = [R0]\n",
    "    \n",
    "    H_H_num = 0\n",
    "    for i in range(T):\n",
    "        S_new = S_old-r1*beta1*(I_R_old+I_H_old)*S_old\n",
    "        E_new = E_old+r1*beta1*(I_R_old+I_H_old)*S_old-v*E_old\n",
    "        I_R_new = I_R_old+p_R*v*E_old-gamma*I_R_old\n",
    "        I_H_new = I_H_old+p_H*v*E_old-gamma*I_H_old\n",
    "        H_H_new = H_H_old+gamma*I_H_old-sigma_H*H_H_old\n",
    "        R_new = R_old+gamma*I_R_old+sigma_H*H_H_old\n",
    "        \n",
    "        S.append(S_new)\n",
    "        E.append(E_new)\n",
    "        I_R.append(I_R_new)\n",
    "        I_H.append(I_H_new)\n",
    "        H_H.append(H_H_new)\n",
    "        R.append(R_new)\n",
    "        H_H_num+=gamma*I_H_old\n",
    "        #print('old:',S_old+E_old+I_R_old+I_H_old+I_C_old+H_H_old+H_C_old+C_old+R_old)\n",
    "        #print('new:',S_new+E_new+I_R_new+I_H_new+I_C_new+H_H_new+H_C_new+C_new+R_new)\n",
    "        S_old = int(S_new)\n",
    "        E_old = int(E_new)\n",
    "        I_R_old = int(I_R_new)\n",
    "        I_H_old = int(I_H_new)\n",
    "        H_H_old = int(H_H_new)\n",
    "        R_old = int(R_new)\n",
    "    return S, E, I_R, I_H, H_H, R, H_H_num\n",
    "\n",
    "\n",
    "def mental_health_record(plan):\n",
    "    record = []\n",
    "    temp = 0\n",
    "    for i in range(len(plan)):\n",
    "        if plan[i] == 1:\n",
    "            temp+=1\n",
    "            if i == len(plan)-1:\n",
    "                record.append(temp)\n",
    "        elif plan[i] ==0:\n",
    "            if temp != 0:\n",
    "                record.append(temp)\n",
    "            temp=0\n",
    "    return record\n",
    "\n",
    "def sigmoid(x):\n",
    "    import math\n",
    "    w = 1 ##sharpness\n",
    "    b = -6 ##rate of day\n",
    "    z = w*x+b\n",
    "    return 1/(1+math.e**(-z))\n",
    "def mental_health(plan, penalty):\n",
    "    record = mental_health_record(plan)\n",
    "    s = 0\n",
    "    for x in record:\n",
    "        s+=sigmoid(x)\n",
    "    return penalty*s\n",
    "def env(plan):\n",
    "    r0 = 7.5    #non-lockdown rate\n",
    "    r1 = 0.5   #lockdown rate\n",
    "    S_all, E_all, I_R_all, I_H_all, H_H_all, R_all, H_H_num_all = [], [], [], [], [], [], 0\n",
    "    S0, E0, I_R0, I_H0, H_H0, R0 = 24.89432*10**6-23-2,23 , 2, 0, 0, 0 ##intial value\n",
    "    S, E, I_R, I_H, H_H, R, H_H_num = SEIR(r0, 5, S0, E0, I_R0, I_H0, H_H0, R0)\n",
    "    S_all+=S\n",
    "    E_all+=E\n",
    "    I_R_all+=I_R\n",
    "    I_H_all+=I_H\n",
    "    H_H_all+=H_H\n",
    "    R_all+=R\n",
    "    H_H_num_all+=H_H_num\n",
    "    for status in plan:\n",
    "        S, E, I_R, I_H, H_H, R, H_H_num = SEIR(status * r1 + (1-status) * r0, 5, S[-1], E[-1], I_R[-1], I_H[-1], H_H[-1], R[-1])\n",
    "        S_all+=S\n",
    "        E_all+=E\n",
    "        I_R_all+=I_R\n",
    "        I_H_all+=I_H\n",
    "        H_H_all+=H_H\n",
    "        R_all+=R\n",
    "        H_H_num_all+=H_H_num\n",
    "    ##subject to change\n",
    "    eco_parameter = 200\n",
    "    mental_health_parameter = 1000\n",
    "    H_H_parameter = 0.4\n",
    "    left_parameter = 0.1/10000*1\n",
    "    #############################3\n",
    "    import math\n",
    "    cost = eco_parameter*sum(plan) + mental_health(plan, mental_health_parameter) +\\\n",
    "                H_H_parameter*H_H_num_all +\\\n",
    "                math.e**(left_parameter*(E_all[-1]+I_R_all[-1]+I_H_all[-1]))\n",
    "    return cost, (E_all[-1]+I_R_all[-1]+I_H_all[-1]), H_H_num_all"
   ]
  },
  {
   "cell_type": "markdown",
   "id": "28ab7a2c",
   "metadata": {},
   "source": [
    "## Genetic Algorithm"
   ]
  },
  {
   "cell_type": "code",
   "execution_count": 20,
   "id": "0e5cd560",
   "metadata": {},
   "outputs": [],
   "source": [
    "def fitness_function(solution, solution_index):\n",
    "    cost_value = env(solution)[0]\n",
    "    return -cost_value"
   ]
  },
  {
   "cell_type": "code",
   "execution_count": 21,
   "id": "ff7908f7",
   "metadata": {},
   "outputs": [],
   "source": [
    "#TODO\n",
    "num_generations = 500\n",
    "num_parents_mating = 4\n",
    "\n",
    "fitness_function = fitness_function\n",
    "\n",
    "sol_per_pop = 8\n",
    "num_genes = 12\n",
    "\n",
    "\n",
    "parent_selection_type = 'sss'\n",
    "keep_parent = 1\n",
    "\n",
    "crossover_type = 'single_point'\n",
    "\n",
    "mutation_type = 'random'\n",
    "mutation_num_genes = 2\n",
    "\n",
    "gene_space = {'low': 0, 'high':7.5}"
   ]
  },
  {
   "cell_type": "code",
   "execution_count": 186,
   "id": "1c5acb66",
   "metadata": {},
   "outputs": [],
   "source": [
    "GA = pygad.GA(num_generations=num_generations,\n",
    "              num_parents_mating=num_parents_mating,\n",
    "              sol_per_pop=sol_per_pop,\n",
    "              num_genes=num_genes,\n",
    "              fitness_func=fitness_function,\n",
    "              parent_selection_type=parent_selection_type,\n",
    "              keep_parents=keep_parent,\n",
    "              crossover_type=crossover_type,\n",
    "              mutation_type=mutation_type,\n",
    "              mutation_num_genes=mutation_num_genes,\n",
    "              gene_space=gene_space)"
   ]
  },
  {
   "cell_type": "code",
   "execution_count": 187,
   "id": "0a43d5d8",
   "metadata": {},
   "outputs": [],
   "source": [
    "GA.run()"
   ]
  },
  {
   "cell_type": "code",
   "execution_count": 188,
   "id": "4668af51",
   "metadata": {
    "scrolled": true
   },
   "outputs": [
    {
     "data": {
      "image/png": "[encoded data removed]",
      "text/plain": [
       "<Figure size 432x288 with 1 Axes>"
      ]
     },
     "metadata": {
      "needs_background": "light"
     },
     "output_type": "display_data"
    },
    {
     "data": {
      "image/png": "[encoded data removed]",
      "text/plain": [
       "<Figure size 432x288 with 1 Axes>"
      ]
     },
     "execution_count": 188,
     "metadata": {},
     "output_type": "execute_result"
    }
   ],
   "source": [
    "GA.plot_fitness()"
   ]
  },
  {
   "cell_type": "code",
   "execution_count": 189,
   "id": "e8fd3579",
   "metadata": {},
   "outputs": [],
   "source": [
    "solution, solution_fitness, solution_idx = GA.best_solution()"
   ]
  },
  {
   "cell_type": "code",
   "execution_count": 190,
   "id": "64420bfb",
   "metadata": {
    "scrolled": true
   },
   "outputs": [
    {
     "data": {
      "text/plain": [
       "array([1., 1., 1., 1., 1., 1., 1., 1., 1., 0., 0., 0., 0., 0., 0., 0., 0.,\n",
       "       0., 0., 0., 0., 0., 0., 0.])"
      ]
     },
     "execution_count": 190,
     "metadata": {},
     "output_type": "execute_result"
    }
   ],
   "source": [
    "solution"
   ]
  },
  {
   "cell_type": "code",
   "execution_count": 182,
   "id": "ab5e8c3e",
   "metadata": {
    "scrolled": false
   },
   "outputs": [
    {
     "data": {
      "text/plain": [
       "-1960.276897746718"
      ]
     },
     "execution_count": 182,
     "metadata": {},
     "output_type": "execute_result"
    }
   ],
   "source": [
    "solution_fitness"
   ]
  },
  {
   "cell_type": "code",
   "execution_count": 92,
   "id": "29bb94d1",
   "metadata": {
    "scrolled": true
   },
   "outputs": [
    {
     "data": {
      "text/plain": [
       "1853.5989268224332"
      ]
     },
     "execution_count": 92,
     "metadata": {},
     "output_type": "execute_result"
    }
   ],
   "source": [
    "sol = np.array([1]*9+[0]*(51))\n",
    "env(sol)[0]"
   ]
  },
  {
   "cell_type": "markdown",
   "id": "d8246925",
   "metadata": {},
   "source": [
    "## Find the Initial Values"
   ]
  },
  {
   "cell_type": "code",
   "execution_count": 12,
   "id": "b9a779e7",
   "metadata": {},
   "outputs": [
    {
     "name": "stdout",
     "output_type": "stream",
     "text": [
      "t = 3, r = 10.0, E0 = 21, I_R0 =2\n",
      "t = 4, r = 6.4, E0 = 23, I_R0 =2\n",
      "t = 5, r = 7.5, E0 = 23, I_R0 =2\n",
      "t = 6, r = 6.4, E0 = 23, I_R0 =2\n",
      "t = 7, r = 6.0, E0 = 23, I_R0 =2\n",
      "t = 8, r = 6.0, E0 = 21, I_R0 =2\n"
     ]
    }
   ],
   "source": [
    "real_I = np.array([2, 8, 16, 19, 28, 48, 55, 65, 80])\n",
    "err_lst = []\n",
    "\n",
    "for t in range(3, 9):\n",
    "    min_err = float('inf')\n",
    "    for r_1 in range(60, 220):\n",
    "        r1 = r_1/10\n",
    "        for E0 in range(10, 50):\n",
    "            for I_R0 in range(1, 10):\n",
    "                S0, I_R0, I_H0, H_H0, R0 = 24.89432*10**6-E0-2, I_R0, 0, 0, 0\n",
    "                _, _, I_R, I_H, _, _, _ = SEIR(r1, t, S0, E0, I_R0, I_H0, H_H0, R0)\n",
    "                err = np.sum((np.array(I_R) + np.array(I_H) - real_I[:t+1]) ** 2 / real_I[:t+1]**2)\n",
    "                if err < min_err:\n",
    "                    min_err = err\n",
    "                    config = r1, E0, I_R0\n",
    "    err_lst.append(min_err)\n",
    "    print(f't = {t}, r = {config[0]}, E0 = {config[1]}, I_R0 ={config[2]}')"
   ]
  },
  {
   "cell_type": "code",
   "execution_count": 14,
   "id": "053f111f",
   "metadata": {},
   "outputs": [],
   "source": [
    "import matplotlib.pyplot as plt"
   ]
  },
  {
   "cell_type": "code",
   "execution_count": 17,
   "id": "25214cd9",
   "metadata": {},
   "outputs": [
    {
     "data": {
      "image/png": "[encoded data removed]",
      "text/plain": [
       "<Figure size 432x288 with 1 Axes>"
      ]
     },
     "metadata": {
      "needs_background": "light"
     },
     "output_type": "display_data"
    }
   ],
   "source": [
    "T = [i for i in range(3,9)]\n",
    "\n",
    "plt.plot(T, err_lst, color='blue')\n",
    "plt.xlabel('Number of Days')\n",
    "plt.ylabel('Mean Squared Percentage Error')\n",
    "plt.show()"
   ]
  }
 ],
 "metadata": {
  "kernelspec": {
   "display_name": "Python 3 (ipykernel)",
   "language": "python",
   "name": "python3"
  },
  "language_info": {
   "codemirror_mode": {
    "name": "ipython",
    "version": 3
   },
   "file_extension": ".py",
   "mimetype": "text/x-python",
   "name": "python",
   "nbconvert_exporter": "python",
   "pygments_lexer": "ipython3",
   "version": "3.8.2"
  },
  "toc": {
   "base_numbering": 1,
   "nav_menu": {},
   "number_sections": true,
   "sideBar": true,
   "skip_h1_title": false,
   "title_cell": "Table of Contents",
   "title_sidebar": "Contents",
   "toc_cell": false,
   "toc_position": {},
   "toc_section_display": true,
   "toc_window_display": false
  }
 },
 "nbformat": 4,
 "nbformat_minor": 5
}
